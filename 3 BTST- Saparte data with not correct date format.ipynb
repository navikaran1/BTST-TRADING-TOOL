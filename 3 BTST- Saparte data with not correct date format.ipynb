{
 "cells": [
  {
   "cell_type": "code",
   "execution_count": null,
   "id": "ddb86b4c",
   "metadata": {},
   "outputs": [],
   "source": [
    "import os\n",
    "import shutil\n",
    "import pandas as pd\n",
    "\n",
    "# Directories\n",
    "root_dir = r'D:\\[01] Python Projects For Trading\\[03] Data sapartaion\\Data'\n",
    "correct_dir = os.path.join(root_dir, 'Correct')\n",
    "not_correct_dir = os.path.join(root_dir, 'NotCorrect')\n",
    "\n",
    "# Ensure the destination directories exist\n",
    "os.makedirs(correct_dir, exist_ok=True)\n",
    "os.makedirs(not_correct_dir, exist_ok=True)\n",
    "\n",
    "# Iterate through all CSV files in the root directory\n",
    "for filename in os.listdir(root_dir):\n",
    "    if filename.endswith('.csv'):\n",
    "        file_path = os.path.join(root_dir, filename)\n",
    "        \n",
    "        # Read the CSV file\n",
    "        df = pd.read_csv(file_path)\n",
    "        \n",
    "        # Get the first value of the first column\n",
    "        first_value = df[df.columns[0]].iloc[0]\n",
    "        \n",
    "        # Check the length of the first value and move the file accordingly\n",
    "        if len(first_value) <= 10:\n",
    "            shutil.move(file_path, os.path.join(correct_dir, filename))\n",
    "            print(f'Moved {filename} to {correct_dir}')\n",
    "        else:\n",
    "            shutil.move(file_path, os.path.join(not_correct_dir, filename))\n",
    "            print(f'Moved {filename} to {not_correct_dir}')\n",
    "\n",
    "print(\"Operation completed.\")\n"
   ]
  }
 ],
 "metadata": {
  "kernelspec": {
   "display_name": "Python 3 (ipykernel)",
   "language": "python",
   "name": "python3"
  },
  "language_info": {
   "codemirror_mode": {
    "name": "ipython",
    "version": 3
   },
   "file_extension": ".py",
   "mimetype": "text/x-python",
   "name": "python",
   "nbconvert_exporter": "python",
   "pygments_lexer": "ipython3",
   "version": "3.11.1"
  },
  "vscode": {
   "interpreter": {
    "hash": "a9cff5a362bc38ef45d817ae74b1af54d6a076e3d773891282bce078b815ba34"
   }
  }
 },
 "nbformat": 4,
 "nbformat_minor": 5
}
