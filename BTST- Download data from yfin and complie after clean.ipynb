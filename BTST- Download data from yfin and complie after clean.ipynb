{
 "cells": [
  {
   "cell_type": "markdown",
   "id": "engaging-fashion",
   "metadata": {},
   "source": [
    "## Importing all the required library"
   ]
  },
  {
   "cell_type": "code",
   "execution_count": 1,
   "id": "nearby-premiere",
   "metadata": {},
   "outputs": [],
   "source": [
    "import pandas as pd\n",
    "import yfinance as yf"
   ]
  },
  {
   "cell_type": "markdown",
   "id": "adequate-passport",
   "metadata": {},
   "source": [
    "### File Reading"
   ]
  },
  {
   "cell_type": "code",
   "execution_count": 2,
   "id": "documentary-mambo",
   "metadata": {},
   "outputs": [],
   "source": [
    "backtest_results_path = r\"C:\\1 SHARE MARKET 2025\\DATA.csv\"\n",
    "backtest_data = pd.read_csv(backtest_results_path)"
   ]
  },
  {
   "cell_type": "markdown",
   "id": "serious-italic",
   "metadata": {},
   "source": [
    "### Downloading Data from Yahoo Finance"
   ]
  },
  {
   "cell_type": "code",
   "execution_count": 10,
   "id": "positive-money",
   "metadata": {
    "scrolled": true
   },
   "outputs": [
    {
     "name": "stderr",
     "output_type": "stream",
     "text": [
      "[*********************100%***********************]  1 of 1 completed\n",
      "[*********************100%***********************]  1 of 1 completed\n",
      "\n",
      "1 Failed download:\n",
      "['AEGISCHEM.NS']: YFTzMissingError('possibly delisted; no timezone found')\n",
      "[*********************100%***********************]  1 of 1 completed\n"
     ]
    }
   ],
   "source": [
    "for symbol in set(backtest_data.symbol):\n",
    "    try:\n",
    "        data = yf.download(f'{symbol}.NS')\n",
    "        data.to_csv(r'C:\\1 SHARE MARKET 2025\\BTST Data/{}.csv'.format(symbol))\n",
    "    except Exception as e:\n",
    "        print(e, symbol)"
   ]
  },
  {
   "cell_type": "markdown",
   "id": "9884ecc7",
   "metadata": {},
   "source": [
    "## DATA CLEANING"
   ]
  },
  {
   "cell_type": "markdown",
   "id": "1d7cd46c",
   "metadata": {},
   "source": [
    "### DATA CLEANING - Delete the 2 and 3 line "
   ]
  },
  {
   "cell_type": "code",
   "execution_count": null,
   "id": "56567fef",
   "metadata": {},
   "outputs": [],
   "source": [
    "import os\n",
    "import pandas as pd\n",
    "\n",
    "# Folder containing CSV files\n",
    "folder_path = r\"C:\\1 SHARE MARKET 2025\\BTST Data\"\n",
    "\n",
    "# Iterate through each CSV file in the folder\n",
    "for filename in os.listdir(folder_path):\n",
    "    if filename.endswith(\".csv\"):\n",
    "        file_path = os.path.join(folder_path, filename)\n",
    "        \n",
    "        # Read CSV file\n",
    "        df = pd.read_csv(file_path)\n",
    "        \n",
    "        # Drop 2nd (index 1) and 3rd (index 2) rows\n",
    "        df = df.drop(index=[0, 1], errors='ignore')\n",
    "        \n",
    "        # Save back to the same file\n",
    "        df.to_csv(file_path, index=False)\n",
    "        \n",
    "        print(f\"Processed: {filename}\")\n",
    "\n",
    "print(\"All CSV files have been updated.\")\n"
   ]
  },
  {
   "cell_type": "markdown",
   "id": "0f23860d",
   "metadata": {},
   "source": [
    "### 1. DATA CLEANING (Adding symbol name,and merging)"
   ]
  },
  {
   "cell_type": "code",
   "execution_count": null,
   "id": "cfac9699",
   "metadata": {},
   "outputs": [
    {
     "name": "stdout",
     "output_type": "stream",
     "text": [
      "Merged 2 CSV files into C:\\1 SHARE MARKET 2025\\output.csv\n"
     ]
    }
   ],
   "source": [
    "import os\n",
    "import pandas as pd\n",
    "\n",
    "def merge_csv_files(folder_path, output_file):\n",
    "    all_files = [f for f in os.listdir(folder_path) if f.endswith('.csv')]\n",
    "    merged_data = []\n",
    "    \n",
    "    for file in all_files:\n",
    "        file_path = os.path.join(folder_path, file)\n",
    "        df = pd.read_csv(file_path)\n",
    "        df.rename(columns={'Price': 'Date'}, inplace=True)  # Rename 'Price' column to 'Date'\n",
    "        df['Symbol'] = os.path.splitext(file)[0]  # Add filename without .csv\n",
    "        merged_data.append(df)\n",
    "    \n",
    "    if merged_data:\n",
    "        final_df = pd.concat(merged_data, ignore_index=True)\n",
    "        final_df.to_csv(output_file, index=False)\n",
    "        print(f\"Merged {len(all_files)} CSV files into {output_file}\")\n",
    "    else:\n",
    "        print(\"No CSV files found in the folder.\")\n",
    "\n",
    "# Example usage\n",
    "folder_path = r\"C:\\1 SHARE MARKET 2025\\BTST Data\"  # Update with your folder path\n",
    "output_file = r\"C:\\1 SHARE MARKET 2025\\output.csv\"  # Update with your desired output file path\n",
    "merge_csv_files(folder_path, output_file)\n"
   ]
  }
 ],
 "metadata": {
  "kernelspec": {
   "display_name": "Python 3",
   "language": "python",
   "name": "python3"
  },
  "language_info": {
   "codemirror_mode": {
    "name": "ipython",
    "version": 3
   },
   "file_extension": ".py",
   "mimetype": "text/x-python",
   "name": "python",
   "nbconvert_exporter": "python",
   "pygments_lexer": "ipython3",
   "version": "3.12.8"
  },
  "vscode": {
   "interpreter": {
    "hash": "1f6a27bcfbe46a917dbd192f4a82657396dda26148bae633192e8d28c70725f1"
   }
  }
 },
 "nbformat": 4,
 "nbformat_minor": 5
}
