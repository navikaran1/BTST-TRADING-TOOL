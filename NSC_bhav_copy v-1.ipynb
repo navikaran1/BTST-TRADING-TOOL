{
 "cells": [
  {
   "cell_type": "markdown",
   "id": "fd1a687c",
   "metadata": {},
   "source": [
    "#### VER 1.7 (Last7 DAYS, Merge 7 days, Filter, EQ , Sat and Sunday excluded)"
   ]
  },
  {
   "cell_type": "code",
   "execution_count": null,
   "id": "cb223b9a",
   "metadata": {},
   "outputs": [],
   "source": [
    "import os\n",
    "import requests\n",
    "import pandas as pd\n",
    "from datetime import datetime, timedelta\n",
    "\n",
    "# Function to download bhav copy data\n",
    "def download_bhav_copy(url, save_path):\n",
    "    try:\n",
    "        response = requests.get(url, timeout=10)\n",
    "        if response.status_code == 200:\n",
    "            with open(save_path, 'wb') as file:\n",
    "                file.write(response.content)\n",
    "            print(f\"Downloaded and saved to {save_path}\")\n",
    "            return True\n",
    "        else:\n",
    "            print(f\"Failed to download from {url}, status code: {response.status_code}\")\n",
    "            return False\n",
    "    except requests.RequestException as e:\n",
    "        print(f\"Error during download: {e}\")\n",
    "        return False\n",
    "\n",
    "# Initialize variables\n",
    "base_url = \"https://archives.nseindia.com/products/content/sec_bhavdata_full_\"\n",
    "save_dir = \"D:\\\\[01] Python Projects For Trading\\\\bhav_copy\\\\\"\n",
    "os.makedirs(save_dir, exist_ok=True)\n",
    "\n",
    "# Date variables\n",
    "days_fetched = 0\n",
    "days_to_fetch = 7\n",
    "current_date = datetime.now()\n",
    "\n",
    "# Download data for the last 7 trading days excluding weekends\n",
    "file_paths = []\n",
    "while days_fetched < days_to_fetch:\n",
    "    # Check if the current day is a weekend\n",
    "    if current_date.weekday() < 5:  # weekdays: Monday=0, ..., Friday=4\n",
    "        formatted_date = current_date.strftime(\"%d%m%Y\")\n",
    "        file_name = f\"sec_bhavdata_full_{formatted_date}.csv\"\n",
    "        save_path = os.path.join(save_dir, file_name)\n",
    "        url = f\"{base_url}{formatted_date}.csv\"\n",
    "        \n",
    "        if download_bhav_copy(url, save_path):\n",
    "            file_paths.append(save_path)\n",
    "            days_fetched += 1\n",
    "    \n",
    "    # Move to the previous day\n",
    "    current_date -= timedelta(1)\n",
    "\n",
    "# Create a master file by combining all data\n",
    "master_file_path = os.path.join(save_dir, \"master_bhav_copy.csv\")\n",
    "all_dataframes = [pd.read_csv(file) for file in file_paths]\n",
    "master_df = pd.concat(all_dataframes, ignore_index=True)\n",
    "master_df.to_csv(master_file_path, index=False)\n",
    "print(f\"Master file created at {master_file_path}\")\n",
    "\n",
    "# Filter the master file to create EQ_file\n",
    "eq_file_path = os.path.join(save_dir, \"EQ_file.csv\")\n",
    "eq_df = master_df[master_df[\" SERIES\"] == \" EQ\"]\n",
    "eq_df.to_csv(eq_file_path, index=False)\n",
    "print(f\"EQ file created at {eq_file_path}\")\n"
   ]
  },
  {
   "cell_type": "markdown",
   "id": "1192f86a",
   "metadata": {},
   "source": [
    "### Transpose the data for easy view"
   ]
  },
  {
   "cell_type": "code",
   "execution_count": 5,
   "id": "5f91671a",
   "metadata": {},
   "outputs": [
    {
     "name": "stdout",
     "output_type": "stream",
     "text": [
      "Transformation complete. The new file is saved as 'transformed_file.csv'.\n"
     ]
    }
   ],
   "source": [
    "import pandas as pd\n",
    "\n",
    "# Load the CSV file\n",
    "df = pd.read_csv(r\"D:\\[01] Python Projects For Trading\\bhav_copy\\EQ_file.csv\")\n",
    "\n",
    "# Pivot the DataFrame\n",
    "df_pivot = df.pivot(index='SYMBOL', columns=' DATE1', values=' DELIV_PER')\n",
    "\n",
    "# Flatten the column names\n",
    "df_pivot.columns = [f'{col} DELIV_PER' for col in df_pivot.columns]\n",
    "\n",
    "# Reset index to include 'SYMBOL' as a column\n",
    "df_pivot = df_pivot.reset_index()\n",
    "\n",
    "# Save the transformed DataFrame to a new CSV file\n",
    "df_pivot.to_csv('transformed_file.csv', index=False)\n",
    "\n",
    "print(\"Transformation complete. The new file is saved as 'transformed_file.csv'.\")\n"
   ]
  }
 ],
 "metadata": {
  "kernelspec": {
   "display_name": "Python 3",
   "language": "python",
   "name": "python3"
  },
  "language_info": {
   "codemirror_mode": {
    "name": "ipython",
    "version": 3
   },
   "file_extension": ".py",
   "mimetype": "text/x-python",
   "name": "python",
   "nbconvert_exporter": "python",
   "pygments_lexer": "ipython3",
   "version": "3.12.8"
  }
 },
 "nbformat": 4,
 "nbformat_minor": 5
}
